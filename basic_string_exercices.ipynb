{
 "cells": [
  {
   "cell_type": "markdown",
   "metadata": {},
   "source": [
    "## Basic string exercises"
   ]
  },
  {
   "cell_type": "markdown",
   "metadata": {},
   "source": [
    "Fill in the code for the functions below. main() is already set up to call the functions with a few different inputs,\n",
    "printing 'OK' when each function is correct. The starter code for each function includes a 'return'\n",
    "which is just a placeholder for your code."
   ]
  },
  {
   "cell_type": "markdown",
   "metadata": {},
   "source": [
    "## A. donuts"
   ]
  },
  {
   "cell_type": "markdown",
   "metadata": {},
   "source": [
    "Given an int count of a number of donuts, return a string of the form 'Number of donuts: <count>', where <count> is the number passed in. However, if the count is 10 or more, then use the word 'many' instead of the actual count. \n",
    "\n",
    "So donuts(5) returns 'Number of donuts: 5' and donuts(23) returns 'Number of donuts: many'"
   ]
  },
  {
   "cell_type": "code",
   "execution_count": null,
   "metadata": {
    "collapsed": true
   },
   "outputs": [],
   "source": [
    "def donuts(count):\n",
    "    if count > 9:\n",
    "        print('Number of donuts: many')\n",
    "    else:\n",
    "        print('Number of donuts:',count)"
   ]
  },
  {
   "cell_type": "markdown",
   "metadata": {},
   "source": [
    "## B. both_ends"
   ]
  },
  {
   "cell_type": "markdown",
   "metadata": {},
   "source": [
    "Given a string s, return a string made of the first 2 and the last 2 chars of the original string, so 'spring' yields 'spng'. However, if the string length is less than 2, return instead the empty string."
   ]
  },
  {
   "cell_type": "code",
   "execution_count": null,
   "metadata": {
    "collapsed": true
   },
   "outputs": [],
   "source": [
    "def both_ends(s):\n",
    "    if len(s) <4:\n",
    "        return []\n",
    "    else:\n",
    "        return s[:2]+s[-2:]"
   ]
  },
  {
   "cell_type": "markdown",
   "metadata": {},
   "source": [
    "## C. fix_start"
   ]
  },
  {
   "cell_type": "markdown",
   "metadata": {},
   "source": [
    "Given a string s, return a string where all occurences of its first char have been changed to '*', except do not change the first char itself. \n",
    "\n",
    "e.g. 'babble' yields 'ba\\**le'\n",
    "\n",
    "Assume that the string is length 1 or more. Hint: s.replace(stra, strb) returns a version of string s where all instances of stra have been replaced by strb."
   ]
  },
  {
   "cell_type": "code",
   "execution_count": null,
   "metadata": {
    "collapsed": true
   },
   "outputs": [],
   "source": [
    "def fix_start(s):\n",
    "    return s[0] + s[1:].replace(s[0],'*')"
   ]
  },
  {
   "cell_type": "markdown",
   "metadata": {},
   "source": [
    "## D. MixUp"
   ]
  },
  {
   "cell_type": "markdown",
   "metadata": {},
   "source": [
    "Given strings a and b, return a single string with a and b separated by a space ```'<a> <b>'```, except swap the first 2 chars of each string.\n",
    "\n",
    "e.g.\n",
    "    \n",
    "    'mix', pod' -> 'pox mid'\n",
    "    \n",
    "    'dog', 'dinner' -> 'dig donner'\n",
    "\n",
    "Assume a and b are length 2 or more."
   ]
  },
  {
   "cell_type": "code",
   "execution_count": null,
   "metadata": {
    "collapsed": true
   },
   "outputs": [],
   "source": [
    "def mix_up(a,b):\n",
    "    return b[0] + a[1:] + ' ' + a[0] + b[1:]"
   ]
  },
  {
   "cell_type": "markdown",
   "metadata": {},
   "source": [
    "## D. verbing"
   ]
  },
  {
   "cell_type": "markdown",
   "metadata": {},
   "source": [
    "Given a string, if its length is at least 3, add 'ing' to its end. Unless it already ends in 'ing', in which case\n",
    "add 'ly' instead. If the string length is less than 3, leave it unchanged. Return the resulting string."
   ]
  },
  {
   "cell_type": "code",
   "execution_count": null,
   "metadata": {
    "collapsed": true
   },
   "outputs": [],
   "source": [
    "def verbing(s):\n",
    "    if len(s) > 2:\n",
    "        if s[-3:] == 'ing':\n",
    "            return s+'ly'\n",
    "        else:\n",
    "            return s+'ing'\n",
    "    else:\n",
    "        return s"
   ]
  },
  {
   "cell_type": "markdown",
   "metadata": {},
   "source": [
    "## E. not_bad"
   ]
  },
  {
   "cell_type": "markdown",
   "metadata": {},
   "source": [
    "Given a string, find the first appearance of the substring 'not' and 'bad'. If the 'bad' follows the 'not', replace the whole 'not'...'bad' substring with 'good'.\n",
    "\n",
    "Return the resulting string.\n",
    "\n",
    "So 'This dinner is not that bad!' yields: This dinner is good!"
   ]
  },
  {
   "cell_type": "code",
   "execution_count": null,
   "metadata": {
    "collapsed": true
   },
   "outputs": [],
   "source": [
    "def not_bad(s):\n",
    "    l=0\n",
    "    m=0\n",
    "    for i in range(0,len(s)-2):\n",
    "        if s[i:i+3] == \"not\":\n",
    "            l=i\n",
    "        if s[i:i+3] == \"bad\":\n",
    "            m=i\n",
    "    if m > l:\n",
    "        return s.replace('bad','good').replace('not ','')\n",
    "    else:\n",
    "        return s"
   ]
  },
  {
   "cell_type": "markdown",
   "metadata": {},
   "source": [
    "## F. front_back"
   ]
  },
  {
   "cell_type": "markdown",
   "metadata": {},
   "source": [
    "Consider dividing a string into two halves. If the length is even, the front and back halves are the same length. If the length is odd, we'll say that the extra char goes in the front half.\n",
    "\n",
    "e.g. 'abcde', the front half is 'abc', the back half 'de'.\n",
    "\n",
    "Given 2 strings, a and b, return a string of the form a-front + b-front + a-back + b-back"
   ]
  },
  {
   "cell_type": "code",
   "execution_count": null,
   "metadata": {
    "collapsed": true
   },
   "outputs": [],
   "source": [
    "def front_back(a,b):\n",
    "   def devi(c):\n",
    "        front = c[0:round(len(c)/2+0.49)]\n",
    "        back = c[round(len(c)/2+0.49):]\n",
    "        return([front,back])\n",
    "   return devi(a)[0] + devi(b)[0] + devi(a)[1] + devi(b)[1]"
   ]
  }
 ],
 "metadata": {
  "kernelspec": {
   "display_name": "Python 3",
   "language": "python",
   "name": "python3"
  },
  "language_info": {
   "codemirror_mode": {
    "name": "ipython",
    "version": 3
   },
   "file_extension": ".py",
   "mimetype": "text/x-python",
   "name": "python",
   "nbconvert_exporter": "python",
   "pygments_lexer": "ipython3",
   "version": "3.5.1"
  }
 },
 "nbformat": 4,
 "nbformat_minor": 0
}
